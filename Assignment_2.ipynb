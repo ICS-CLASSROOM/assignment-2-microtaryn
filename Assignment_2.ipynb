{
 "cells": [
  {
   "cell_type": "code",
   "execution_count": 1,
   "id": "1443cdff",
   "metadata": {},
   "outputs": [],
   "source": [
    "##Taryn Takebayashi\n"
   ]
  },
  {
   "cell_type": "code",
   "execution_count": 1,
   "id": "36d59691",
   "metadata": {},
   "outputs": [],
   "source": [
    "import re"
   ]
  },
  {
   "cell_type": "markdown",
   "id": "9aa8d15e",
   "metadata": {},
   "source": [
    "# Assignment 2: Analyzing large datasets with Spark.\n",
    "\n",
    "\n",
    "For this assignment, you will need to make sure you're running from a PySpark docker environment I introduced in class. You can start the docker pySpark docker environment using the following command:\n",
    "\n",
    "```\n",
    "docker run --rm -p 4040:4040 -p 8888:8888 -v $(pwd):/home/jovyan/work jupyter/all-spark-notebook\n",
    "```\n",
    "\n",
    "Make sure you run the command from the directory containing this jupyter notebook and your data folder.\n",
    "\n",
    "\n",
    "</b>\n",
    "# WARNING: For some reason, ipynbb document didn't always sync properly when I was pushing to github. As such, please push often and make sure your incremental changes appear on GitHub.\n",
    "</b>"
   ]
  },
  {
   "cell_type": "markdown",
   "id": "66b0d3e6",
   "metadata": {},
   "source": [
    "### Part 1\n",
    "\n",
    "The first part will use Spark to analyze the following books, which I have downloaded for you to use from Project Gutenberg. The files are saved to the data folder.\n",
    "\n",
    "| File name | Book Title|\n",
    "|:---------:|:----------|\n",
    "|43.txt | The Strange Case of Dr. Jekyll and Mr. Hyde by Robert Louis Stevenson|\n",
    "|84.txt | Frankenstein; Or, The Modern Prometheus by Mary Wollstonecraft Shelley |\n",
    "|398.txt  | The First Book of Adam and Eve by Rutherford Hayes Platt|\n",
    "|3296.txt | The Confessions of St. Augustine by Bishop of Hippo Saint Augustine|\n",
    "\n",
    "The objective is to explore whether we can detect similarity between books within the same topic using word-based similarity. \n",
    "\n",
    "The task of identifying similar texts in Natural Language Processing is crucial. A naive method for determining whether two documents are similar is to treat them as collections of words (bag of words) and use the number of words they share as a proxy for their similarity. It makes sense that two books with religion as the topic (e.g.  `398.txt` and `3296.txt`) would have more words in common than a book that discusses religion and a book that discusses science fiction (e.g. books `84.txt` and `398.txt`). \n",
    "\n",
    "As mentioned above, we will be using Spark to analyze the data. Although Spark is not needed for such a small example, the platform would be ideal for analyzing very large collections of documents, like those often analyzed by large corporations\n",
    "\n",
    "This part of the assignment will rely exclusively on RDDs."
   ]
  },
  {
   "cell_type": "markdown",
   "id": "87a15530",
   "metadata": {},
   "source": [
    "### Q1. \n",
    "Start by importing Spark and making sure your environment is set up properly for the assignment.\n",
    "\n",
    "Import the spark context necessary to load a document as an RDD; ignore any error messages"
   ]
  },
  {
   "cell_type": "code",
   "execution_count": 89,
   "id": "e80df4d4",
   "metadata": {},
   "outputs": [],
   "source": [
    "### Write your code here\n",
    "import pyspark\n",
    "from pyspark.sql import SparkSession\n",
    "from pyspark import SparkContext\n",
    "sc = SparkContext.getOrCreate()"
   ]
  },
  {
   "cell_type": "markdown",
   "id": "336d5c9d",
   "metadata": {},
   "source": [
    "### Q2 \n",
    "\n",
    "Read in the file `43.txt` as a spark RDD and save it to a variable called `book_43`\n",
    " * make sure `book_43` is of type MapPartitionsRDD, i.e.,\n",
    "   * str(type(book_43)) == \"<class 'pyspark.rdd.RDD'>\" should return True "
   ]
  },
  {
   "cell_type": "code",
   "execution_count": 90,
   "id": "3d4164f5",
   "metadata": {},
   "outputs": [
    {
     "data": {
      "text/plain": [
       "True"
      ]
     },
     "execution_count": 90,
     "metadata": {},
     "output_type": "execute_result"
    }
   ],
   "source": [
    "### Write your code here\n",
    "# The sparkContext.textFile() method is used to read a text file into RDD\n",
    "book_43 = sc.textFile(\"data/43.txt\", minPartitions = 96)\n",
    "str(type(book_43)) == \"<class 'pyspark.rdd.RDD'>\""
   ]
  },
  {
   "cell_type": "markdown",
   "id": "0b8c051e",
   "metadata": {},
   "source": [
    "### Q3\n",
    "\n",
    "How many lines does `book_43` contain?\n",
    "* You can only use operations or actions on RDDs to answer the question. \n",
    "  * Code that uses methods such as `some_rdd.X().Y().Z()...` is allowed\n",
    "  * Code that uses functions such as `some_func(...)` is not allowed"
   ]
  },
  {
   "cell_type": "code",
   "execution_count": 127,
   "id": "b3c5a06e",
   "metadata": {},
   "outputs": [
    {
     "name": "stderr",
     "output_type": "stream",
     "text": [
      "[Stage 258:==================================================>    (88 + 2) / 96]\r"
     ]
    },
    {
     "name": "stdout",
     "output_type": "stream",
     "text": [
      "Book 43 contains 2935 lines.\n",
      "2935\n"
     ]
    },
    {
     "name": "stderr",
     "output_type": "stream",
     "text": [
      "\r",
      "                                                                                \r"
     ]
    }
   ],
   "source": [
    "### Write your code here\n",
    "print(\"Book 43 contains \" + str(book_43.count()) + \" lines.\")\n",
    "lines = open(\"data/43.txt\").readlines()\n",
    "print(len(lines))"
   ]
  },
  {
   "cell_type": "markdown",
   "id": "bca2bc6d",
   "metadata": {},
   "source": [
    "### Q4 \n",
    "\n",
    "Prior to analyzing the words contained in this book, we need to first remove the occurrences of non-alphabetical characters and numbers from the text. You can use the following function, which takes a line as input, removes digits and non-word characters, and splits it into a collection of words. \n",
    "\n",
    "```python\n",
    "def clean_split_line(line):\n",
    "    a = re.sub('\\d+', '', line)\n",
    "    b = re.sub('[\\W]+', ' ', a)\n",
    "    return b.upper().split()\n",
    "```\n",
    "\n",
    "Use the fucntion above on the variable (test_line) to see what it returns.\n",
    "```python\n",
    "test_line = \"This is an example of that contains 234 and a dash-containing number\"\n",
    "```"
   ]
  },
  {
   "cell_type": "code",
   "execution_count": 92,
   "id": "55ce2754",
   "metadata": {},
   "outputs": [],
   "source": [
    "### Write your code here\n",
    "def clean_split_line(line):\n",
    "    a = re.sub('\\d+', '', line)\n",
    "    b = re.sub('[\\W]+', ' ', a)\n",
    "    return b.upper().split()"
   ]
  },
  {
   "cell_type": "code",
   "execution_count": 93,
   "id": "356500ae",
   "metadata": {},
   "outputs": [
    {
     "data": {
      "text/plain": [
       "['THIS',\n",
       " 'IS',\n",
       " 'AN',\n",
       " 'EXAMPLE',\n",
       " 'OF',\n",
       " 'THAT',\n",
       " 'CONTAINS',\n",
       " 'AND',\n",
       " 'A',\n",
       " 'DASH',\n",
       " 'CONTAINING',\n",
       " 'NUMBER']"
      ]
     },
     "execution_count": 93,
     "metadata": {},
     "output_type": "execute_result"
    }
   ],
   "source": [
    "test_line = \"This is an example of that contains 234 and a dash-containing number\"\n",
    "clean_split_line(test_line)"
   ]
  },
  {
   "cell_type": "markdown",
   "id": "b5e951e5",
   "metadata": {},
   "source": [
    "### Q5\n",
    "\n",
    "How many words does `book_43` contain? To answer this question, you may find it useful to apply the function in a spark-fashion. \n",
    "* You can only use operations or actions on RDDs to answer the question. \n",
    "  * Code that uses methods such as `some_rdd.X().Y().Z()...` is allowed\n",
    "  * Code that uses functions such as `some_func(...)` is not allowed\n"
   ]
  },
  {
   "cell_type": "code",
   "execution_count": 128,
   "id": "99c1b93f",
   "metadata": {},
   "outputs": [
    {
     "name": "stderr",
     "output_type": "stream",
     "text": [
      "[Stage 259:================================================>      (84 + 2) / 96]\r"
     ]
    },
    {
     "name": "stdout",
     "output_type": "stream",
     "text": [
      "Book 43 contains 29116 words\n"
     ]
    },
    {
     "name": "stderr",
     "output_type": "stream",
     "text": [
      "\r",
      "                                                                                \r"
     ]
    }
   ],
   "source": [
    "### Write your code here\n",
    "words = book_43.flatMap(clean_split_line)\n",
    "print(\"Book 43 contains \" + str(words.count()) + \" words\")"
   ]
  },
  {
   "cell_type": "markdown",
   "id": "30d62952",
   "metadata": {},
   "source": [
    "### Q6\n",
    "\n",
    "How many of the words in book_43 are unique? Given that words can appear in lower, upper or mixed case (ex. The, THE, the), make sure you convert the words into lower case before counting them.\n"
   ]
  },
  {
   "cell_type": "code",
   "execution_count": 129,
   "id": "8e9d5df0",
   "metadata": {
    "scrolled": false
   },
   "outputs": [
    {
     "name": "stderr",
     "output_type": "stream",
     "text": [
      "[Stage 261:======================================>                (67 + 2) / 96]\r"
     ]
    },
    {
     "name": "stdout",
     "output_type": "stream",
     "text": [
      "The number of unique words in Book 43 is 4296\n"
     ]
    },
    {
     "name": "stderr",
     "output_type": "stream",
     "text": [
      "\r",
      "[Stage 261:================================================>      (85 + 2) / 96]\r",
      "\r",
      "                                                                                \r"
     ]
    }
   ],
   "source": [
    "def clean_split_line2(line):\n",
    "    a = re.sub('\\d+', '', line)\n",
    "    b = re.sub('[\\W]+', ' ', a)\n",
    "    return b.lower().split()\n",
    "words2 = book_43.flatMap(clean_split_line2)\n",
    "uniqueWords = words2.distinct()\n",
    "countDistinct = uniqueWords.count()\n",
    "print(\"The number of unique words in Book 43 is \" + str(countDistinct))"
   ]
  },
  {
   "cell_type": "markdown",
   "id": "91b13b79",
   "metadata": {},
   "source": [
    "### Q7\n",
    "\n",
    "* Generate an `RDD` that contains the frequency of each word in `book_43`. Call the variable `book_43_counts`. Each item in the `RDD` should be a tuple with the word as the first element of the tuple and the count as the second item of the tuple. The collection should look like the following:\n",
    "\n",
    "[('project', 88), (\"the\", 1807), ... ]\n",
    "\n",
    "* Such a collection may contain a large number of words and it would be imprudent to transfer all the words onto the same machine to display it. Instead, to explore the content of such a collection, display only the first element in your list. \n",
    "\n",
    "* Given the random nature of this operation, the first element element displayed may be different. The first entry for me was:\n",
    "```\n",
    "[('project', 88)]\n",
    "```\n",
    "\n",
    "* You can only use operations or actions to answer the question. \n",
    "* Code that uses methods such as `some_rdd.X().Y().Z()...` is allowed\n",
    "* Code that uses functions such as `some_func(...)` is not allowed\n"
   ]
  },
  {
   "cell_type": "code",
   "execution_count": 96,
   "id": "42729b95",
   "metadata": {},
   "outputs": [
    {
     "name": "stderr",
     "output_type": "stream",
     "text": [
      "                                                                                \r"
     ]
    },
    {
     "data": {
      "text/plain": [
       "[('start', 6)]"
      ]
     },
     "execution_count": 96,
     "metadata": {},
     "output_type": "execute_result"
    }
   ],
   "source": [
    "### Write your code here\n",
    "words_mapped = words2.map(lambda x: (x,1))\n",
    "book_43_counts = words_mapped.reduceByKey(lambda x,y: x+y)\n",
    "book_43_counts.take(1)"
   ]
  },
  {
   "cell_type": "markdown",
   "id": "1ee4534c",
   "metadata": {},
   "source": [
    "### Q8\n",
    "\n",
    "Sort `book_43_counts` and print the 20 most frequent words in book_43. \n",
    "  * Hint: function `sortByKey` sorts a collection of tuples on the first element element of the list. You can easily change the order of the items in each element and use `sortByKey` to sort on the second item of each element in `book_43_counts`\n",
    "  * You can only use operations or actions to answer the question. \n",
    "  * Code that uses methods such as `some_rdd.X().Y().Z()...` is allowed\n",
    "  * Code that uses functions such as `some_func(...)` is not allowed"
   ]
  },
  {
   "cell_type": "code",
   "execution_count": 97,
   "id": "d51b8ea9",
   "metadata": {},
   "outputs": [
    {
     "name": "stderr",
     "output_type": "stream",
     "text": [
      "                                                                                \r"
     ]
    },
    {
     "data": {
      "text/plain": [
       "[(1807, 'the'),\n",
       " (1068, 'of'),\n",
       " (1043, 'and'),\n",
       " (726, 'to'),\n",
       " (686, 'a'),\n",
       " (646, 'i'),\n",
       " (485, 'in'),\n",
       " (471, 'was'),\n",
       " (392, 'that'),\n",
       " (384, 'he'),\n",
       " (378, 'it'),\n",
       " (312, 'you'),\n",
       " (308, 'my'),\n",
       " (301, 'with'),\n",
       " (285, 'his'),\n",
       " (244, 'had'),\n",
       " (203, 'as'),\n",
       " (202, 'for'),\n",
       " (195, 'this'),\n",
       " (193, 'but')]"
      ]
     },
     "execution_count": 97,
     "metadata": {},
     "output_type": "execute_result"
    }
   ],
   "source": [
    "### Write your code here\n",
    "book_43_counts_rev = book_43_counts.map(lambda x: (x[1],x[0]))\n",
    "book_43_counts_rev.sortByKey(False).take(20)"
   ]
  },
  {
   "cell_type": "markdown",
   "id": "13420b09",
   "metadata": {},
   "source": [
    "### Q9\n",
    "\n",
    "You must have noted that the most frequent words in `book_43_counts` include stop words such as `of`, `the`, `and`, etc.\n",
    "\n",
    "It would be inefficient to compare documents based on whether or not they contain stop words; those are common to all documents. As such, it's common to remove such stop words. The librarary `sklearn.feature_extraction` provides access to a collection of English stop words, which can be loaded using the following snippet:\n",
    "\n",
    "```\n",
    "from sklearn.feature_extraction import stop_words\n",
    "stop_words.ENGLISH_STOP_WORDS\n",
    "```\n",
    "\n",
    "* Explore ENGLISH_STOP_WORDS (it's a frozen set data structure, i.e., a set that you cannot modify) by printing any 10 words from it. \n",
    " * Hint: convert the frozen set to something you can subscript\n"
   ]
  },
  {
   "cell_type": "code",
   "execution_count": 98,
   "id": "0e0ad996",
   "metadata": {},
   "outputs": [
    {
     "data": {
      "text/plain": [
       "['alone',\n",
       " 'four',\n",
       " 'itself',\n",
       " 'once',\n",
       " 'nowhere',\n",
       " 'for',\n",
       " 'mill',\n",
       " 'which',\n",
       " 'per',\n",
       " 'many']"
      ]
     },
     "execution_count": 98,
     "metadata": {},
     "output_type": "execute_result"
    }
   ],
   "source": [
    "### Write your code here\n",
    "from sklearn.feature_extraction import _stop_words\n",
    "stopWords = _stop_words.ENGLISH_STOP_WORDS\n",
    "stopWordList = list(stopWords)\n",
    "stopWordList[:10]"
   ]
  },
  {
   "cell_type": "markdown",
   "id": "625eb521",
   "metadata": {},
   "source": [
    "### Q10\n",
    "\n",
    "Filter out the words in `book_43_counts` by removing those that appear in the ENGLISH_STOP_WORDS.\n",
    "Save the results to a new variable called `book_43_counts_filtered`\n",
    "  * You can only use operarations or actions on RDDs to answer the question. \n",
    "  * Code that uses methods such as `some_rdd.X().Y().Z()...` is allowed\n",
    "  * Code that uses function such as `some_func(...)` is not allowed\n"
   ]
  },
  {
   "cell_type": "code",
   "execution_count": 101,
   "id": "5602b4ff",
   "metadata": {},
   "outputs": [],
   "source": [
    "### Write your code here\n",
    "book_43_counts_filtered = book_43_counts_rev.filter(lambda x: x[1] not in stopWordList)"
   ]
  },
  {
   "cell_type": "markdown",
   "id": "3d0b3a80",
   "metadata": {},
   "source": [
    "### Q11\n",
    "\n",
    "* How many words are left in `book_43_counts_filtered` after removing the stop words"
   ]
  },
  {
   "cell_type": "code",
   "execution_count": 130,
   "id": "a5bdf083",
   "metadata": {},
   "outputs": [
    {
     "name": "stderr",
     "output_type": "stream",
     "text": [
      "[Stage 263:==============================================>        (81 + 2) / 96]\r"
     ]
    },
    {
     "name": "stdout",
     "output_type": "stream",
     "text": [
      "The number of words left in Book 43 after removing the stop words is 4034\n"
     ]
    },
    {
     "name": "stderr",
     "output_type": "stream",
     "text": [
      "\r",
      "                                                                                \r"
     ]
    }
   ],
   "source": [
    "### Write your code here\n",
    "print(\"The number of words left in Book 43 after removing the stop words is \" + str(book_43_counts_filtered.count()))"
   ]
  },
  {
   "cell_type": "markdown",
   "id": "23ffd755",
   "metadata": {},
   "source": [
    "### Q12 \n",
    "\n",
    "* Create a function called *process_RDD* that combines the relevant steps you proposed above to make it convenient to apply them to the remaining four books. Your function should accept an input text file path and:\n",
    " * Reads in the file as a textRDD\n",
    " * Cleans and splits the line using `clean_split_line`\n",
    " * Filters out the stop words\n",
    " * Returns a word count RDD where each item is a tuple of words and its count.\n",
    " \n"
   ]
  },
  {
   "cell_type": "code",
   "execution_count": 114,
   "id": "eff5d5e8",
   "metadata": {},
   "outputs": [],
   "source": [
    "### Write your code here\n",
    "def process_RDD(bookFilePath):\n",
    "    bookRDD = sc.textFile(bookFilePath, minPartitions=96)\n",
    "    bookWords = bookRDD.flatMap(clean_split_line2)\n",
    "    mapWords = bookWords.map(lambda x: (x,1))\n",
    "    mapWordsSorted = mapWords.sortByKey()\n",
    "    bookWordCount = mapWordsSorted.reduceByKey(lambda x,y: x+y)\n",
    "    bookWordCountSorted = bookWordCount.map(lambda x: (x[1],x[0]))\n",
    "    EngStopWords = _stop_words.ENGLISH_STOP_WORDS\n",
    "    EngStopWordList = list(EngStopWords)\n",
    "    bookCountFiltered = bookWordCountSorted.filter(lambda x: x[1] not in EngStopWordList)\n",
    "    bookCountFilteredSorted = bookCountFiltered.sortByKey(False)\n",
    "    return bookCountFilteredSorted"
   ]
  },
  {
   "cell_type": "markdown",
   "id": "ba59c9c5",
   "metadata": {},
   "source": [
    "### Q13 \n",
    "\n",
    "Apply the function `process_RDD` to `book_84`, `book_398` and `book_3296` and save the results to variables `book_84_counts_filtered`, `book_398_counts_filtered` and `book_3296_counts_filtered` respectively. How many distinct words does each book contain after filtering the stop words.\n"
   ]
  },
  {
   "cell_type": "code",
   "execution_count": 131,
   "id": "08a24f66",
   "metadata": {},
   "outputs": [
    {
     "name": "stderr",
     "output_type": "stream",
     "text": [
      "[Stage 275:===================================>                   (62 + 2) / 96]\r"
     ]
    },
    {
     "name": "stdout",
     "output_type": "stream",
     "text": [
      "Distinct words for Book 43 is 4034\n"
     ]
    },
    {
     "name": "stderr",
     "output_type": "stream",
     "text": [
      "\r",
      "[Stage 275:==============================================>        (81 + 2) / 96]\r",
      "\r",
      "                                                                                \r"
     ]
    }
   ],
   "source": [
    "### Write your code here\n",
    "book_43_counts_filtered = process_RDD(\"./data/43.txt\")\n",
    "print(\"Distinct words for Book 43 is \" + str(book_43_counts_filtered.count()))"
   ]
  },
  {
   "cell_type": "code",
   "execution_count": 120,
   "id": "541bf6cb",
   "metadata": {},
   "outputs": [
    {
     "name": "stderr",
     "output_type": "stream",
     "text": [
      "[Stage 209:==========================================>            (74 + 2) / 96]\r"
     ]
    },
    {
     "name": "stdout",
     "output_type": "stream",
     "text": [
      "Distinct words for Book 84 is 7016\n"
     ]
    },
    {
     "name": "stderr",
     "output_type": "stream",
     "text": [
      "\r",
      "[Stage 209:===================================================>   (90 + 2) / 96]\r",
      "\r",
      "                                                                                \r"
     ]
    }
   ],
   "source": [
    "book_84_counts_filtered = process_RDD(\"./data/84.txt\")\n",
    "print(\"Distinct words for Book 84 is \" + str(book_84_counts_filtered.count()))"
   ]
  },
  {
   "cell_type": "code",
   "execution_count": 121,
   "id": "dac66f5d",
   "metadata": {},
   "outputs": [
    {
     "name": "stderr",
     "output_type": "stream",
     "text": [
      "[Stage 221:==================================================>    (89 + 2) / 96]\r"
     ]
    },
    {
     "name": "stdout",
     "output_type": "stream",
     "text": [
      "Distinct words for Book 398 is 2421\n"
     ]
    },
    {
     "name": "stderr",
     "output_type": "stream",
     "text": [
      "\r",
      "                                                                                \r"
     ]
    }
   ],
   "source": [
    "book_398_counts_filtered = process_RDD(\"./data/398.txt\")\n",
    "print(\"Distinct words for Book 398 is \" + str(book_398_counts_filtered.count()))"
   ]
  },
  {
   "cell_type": "code",
   "execution_count": 122,
   "id": "d0fc06be",
   "metadata": {},
   "outputs": [
    {
     "name": "stderr",
     "output_type": "stream",
     "text": [
      "[Stage 233:====================================================>  (91 + 2) / 96]\r"
     ]
    },
    {
     "name": "stdout",
     "output_type": "stream",
     "text": [
      "Distinct words for Book 3296 is 7293\n"
     ]
    },
    {
     "name": "stderr",
     "output_type": "stream",
     "text": [
      "\r",
      "                                                                                \r"
     ]
    }
   ],
   "source": [
    "book_3296_counts_filtered = process_RDD(\"./data/3296.txt\")\n",
    "print(\"Distinct words for Book 3296 is \" + str(book_3296_counts_filtered.count()))"
   ]
  },
  {
   "cell_type": "markdown",
   "id": "7fb9680f",
   "metadata": {},
   "source": [
    "### Q14 \n",
    "\n",
    "We discussed how to evaluate similarity between two texts using the number of words they share. We hypothesized that books that are similar should have more words in common than books that are dissimilar. If that holds, `book_398` and `book_3296`, which both pertain to religion, will have more words in common than, say, `book_84` and `book_398`. Test this hypothesis by writing code that compares and prints the number of words shared between `book_398` and `book_3296` and then between `book_84` and `book_398`.\n"
   ]
  },
  {
   "cell_type": "code",
   "execution_count": 124,
   "id": "da402197",
   "metadata": {},
   "outputs": [
    {
     "name": "stderr",
     "output_type": "stream",
     "text": [
      "                                                                                \r"
     ]
    },
    {
     "name": "stdout",
     "output_type": "stream",
     "text": [
      "The count of words shared between book_398 and book_3296 is  1790\n"
     ]
    },
    {
     "name": "stderr",
     "output_type": "stream",
     "text": [
      "[Stage 249:====================================================>(189 + 2) / 192]\r"
     ]
    },
    {
     "name": "stdout",
     "output_type": "stream",
     "text": [
      "The count of words shared between book_84 and book_398 is  1691\n"
     ]
    },
    {
     "name": "stderr",
     "output_type": "stream",
     "text": [
      "\r",
      "                                                                                \r"
     ]
    }
   ],
   "source": [
    "cross_398_3296 = book_398_counts_filtered.map(lambda x: x[1]).intersection(book_3296_counts_filtered.map(lambda x: x[1]))\n",
    "cross_84_398 = book_84_counts_filtered.map(lambda x: x[1]).intersection(book_398_counts_filtered.map(lambda x: x[1]))\n",
    "print(\"The count of words shared between book_398 and book_3296 is \", cross_398_3296.count())\n",
    "print(\"The count of words shared between book_84 and book_398 is \", cross_84_398.count())"
   ]
  },
  {
   "cell_type": "markdown",
   "id": "cef9f326",
   "metadata": {},
   "source": [
    "### Q15\n",
    "\n",
    "* Based on the above, do you think counting the number of shared words is a good idea as a distance metric for evaluating topic similarity? Justify your answer?\n",
    "* Hint: What do *book_84* and *book_3296* have in common? "
   ]
  },
  {
   "cell_type": "code",
   "execution_count": 125,
   "id": "c0509597",
   "metadata": {},
   "outputs": [
    {
     "name": "stderr",
     "output_type": "stream",
     "text": [
      "[Stage 257:===============================================>     (172 + 2) / 192]\r"
     ]
    },
    {
     "name": "stdout",
     "output_type": "stream",
     "text": [
      "The count of words shared between book_84 and book_3296 is  3608\n"
     ]
    },
    {
     "name": "stderr",
     "output_type": "stream",
     "text": [
      "\r",
      "[Stage 257:====================================================>(191 + 1) / 192]\r",
      "\r",
      "                                                                                \r"
     ]
    }
   ],
   "source": [
    "cross_84_3296 = book_84_counts_filtered.map(lambda x: x[1]).intersection(book_3296_counts_filtered.map(lambda x: x[1]))\n",
    "print(\"The count of words shared between book_84 and book_3296 is \", cross_84_3296.count())\n"
   ]
  },
  {
   "cell_type": "markdown",
   "id": "6587ae14",
   "metadata": {},
   "source": [
    "#### Answer\n",
    "Book 43 is \"The Strange Case of Dr. Jekyll and Mr. Hyde\" with 4034 distinct words.\n",
    "Book 84 is \"Frankenstein with 7016 distinct words\n",
    "Book 398 is the \"Book of Adam and Eve\" with 2421 distinct words\n",
    "Book 3296 is \"The Confessions of Saint Augustine\" with 7293 distinct words.\n",
    "\n",
    "70% of the distinct words in Book of Adam and Eve are also found in Frankenstein. But only 24% of the distinct words in Frankenstein are found in Adam and Eve. So, if we only look at the intersection for Adam and Eve, it seems like it has a very similar topic to Frankenstein. However, looking at the intersection for Frankenstein, shows that Frankenstein has very little to do with Adam and Eve.\n",
    "\n",
    "If we compare book 84 (Frankenstein) with book 3296 (Confessions of Saint Augustine), we see that 51.4% of the distinct words in Frankenstein are found in Confessions of Saint Augustine. 49.5% of the distinct words in Saint Augustine are found in Frankenstein. We expect that there is some similarity because both books discuss creation and religion. However, the religious context of Saint Augustine's confessions is much greater than Frankenstein. So, the match is still low at ~50%.\n",
    "\n",
    "Lastly, if we compare Adam and Eve vs. Confessions of Saint Augustine, we see that 74% of the distinct words in Adam and Eve are found in Saint Augustine, while only 54% of the distinct words in Saint Augustine are found in Adam and Eve. Both of these books are very religious and should share similar percentages of distinct words just based on their topic. However, they are of very different lengths (Adam and Eve is only about one-third as long as Saint Augustine).\n",
    "\n",
    "In summary, this method will not be good for books that are very different in size even if their topics are similar (Adam and Eve vs. Confessions of Saint Augustine). But this method can work well for books of similar length (Frankenstein vs. Confessions of St. Augustine have a low match and have quite different topics)"
   ]
  },
  {
   "cell_type": "markdown",
   "id": "a6f8f857",
   "metadata": {},
   "source": [
    "## Part II \n",
    "\n",
    "Another approach to estimating similarity consists of computing the Euclidean distance across a set of words. For example, suppose we have 3 documents A, B and C with the following counts for the words `evolution`, `DNA`, `biology` and `finance`. \n",
    "\n",
    "```python \n",
    "A = [4, 9, 6, 8]\n",
    "B = [3, 7, 7, 10]\n",
    "C = [15, 10, 1, 1]\n",
    "```\n",
    "Although all documents contain exactly the four words, the number of times these words appear in each book may be indicative of thier topic. For example, documents `A` and `B` are more likely to be business related since they contain the word `finance` more frequently (8 and 10 times respectively). Document `C` may be a technical document since it focuses on more technical words (`evolution` and `DNA`) and less on the words `finance`.\n",
    "\n",
    "The Euclidean distance, which can be computed using the `scikit` snippet below, is more indicative of topic-relatedness between the two documents.\n",
    "\n",
    "```python\n",
    "from scipy.spatial.distance import euclidean \n",
    "print(f\"The Euclidean distance between A and B is: {euclidean(A, B)}\")\n",
    "\n",
    "print(f\"The Euclidean distance between A and C is: {euclidean(A, C)}\")\n",
    "\n",
    "print(f\"The Euclidean distance between B and C is: {euclidean(B, C)}\")\n",
    "```\n"
   ]
  },
  {
   "cell_type": "markdown",
   "id": "9abdc35e",
   "metadata": {},
   "source": [
    "### Q16\n",
    "\n",
    "To calculate the Euclidean distance, we must first identify the set of words by which we will compare the documents. Here, we will explore the words that are common to all 4 documents. We will store the data in a matrix called `counts_matrix`.\n",
    "\n",
    "Start by finding the words that are common to all four documents after stop-word filtering and store the counts for each word in a column of `counts_matrix`. \n",
    "\n",
    "To take the previous example, you can generate an emtpy matrix with 3 lines (documents `A`, `B` and `C`) and 4 columns (words `evolution`, `DNA`, `biology` and `finance`) using the following code.\n",
    "\n",
    "```python\n",
    "import numpy as np\n",
    "counts_matrix = np.zeros([3,4])\n",
    "```\n",
    "\n",
    "After generting the counts, you can fill the counts for a document, say `A`, using the following code:\n",
    "\n",
    "```python\n",
    "counts_matrix[0, :] = [4, 9, 6, 8] \n",
    "```\n",
    "* Other than for building `counts_matrix` you should exclusively use operations or actions on the `RDD` to answer this question. \n",
    "  * Code that uses methods such as `some_rdd.X().Y().Z()...` is allowed\n",
    "  * Code that uses functions such as `some_func(...)` is not allowed\n"
   ]
  },
  {
   "cell_type": "code",
   "execution_count": 135,
   "id": "c3cae946",
   "metadata": {
    "scrolled": true
   },
   "outputs": [
    {
     "name": "stderr",
     "output_type": "stream",
     "text": [
      "                                                                                \r"
     ]
    }
   ],
   "source": [
    "### Write your code here\n",
    "import numpy as np\n",
    "cross_43_84_398_3296 = book_43_counts_filtered.map(lambda x: x[1]).intersection(book_84_counts_filtered.map(lambda x: x[1])).intersection(book_398_counts_filtered.map(lambda x: x[1])).intersection(book_3296_counts_filtered.map(lambda x: x[1]))\n",
    "numColumns = cross_43_84_398_3296.count()\n",
    "#print(numColumns)"
   ]
  },
  {
   "cell_type": "code",
   "execution_count": 137,
   "id": "8e1ba9ce",
   "metadata": {},
   "outputs": [
    {
     "name": "stdout",
     "output_type": "stream",
     "text": [
      "[[0. 0. 0. ... 0. 0. 0.]\n",
      " [0. 0. 0. ... 0. 0. 0.]\n",
      " [0. 0. 0. ... 0. 0. 0.]\n",
      " [0. 0. 0. ... 0. 0. 0.]]\n"
     ]
    }
   ],
   "source": [
    "counts_matrix = np.zeros([4, numColumns])\n",
    "print(counts_matrix)"
   ]
  },
  {
   "cell_type": "code",
   "execution_count": 138,
   "id": "36b2b77a",
   "metadata": {},
   "outputs": [
    {
     "name": "stderr",
     "output_type": "stream",
     "text": [
      "                                                                                \r"
     ]
    }
   ],
   "source": [
    "crossList = list(cross_43_84_398_3296.collect())"
   ]
  },
  {
   "cell_type": "code",
   "execution_count": 142,
   "id": "babae59a",
   "metadata": {},
   "outputs": [
    {
     "name": "stderr",
     "output_type": "stream",
     "text": [
      "[Stage 411:============================================>          (78 + 2) / 96]\r"
     ]
    },
    {
     "name": "stdout",
     "output_type": "stream",
     "text": [
      "[[ 1.  3.  5. ...  2.  3.  1.]\n",
      " [ 1.  9. 30. ...  4.  9.  1.]\n",
      " [ 1.  2.  1. ... 16.  5.  1.]\n",
      " [ 1.  4. 15. ...  3. 36. 16.]]\n"
     ]
    },
    {
     "name": "stderr",
     "output_type": "stream",
     "text": [
      "\r",
      "[Stage 411:===================================================>   (90 + 2) / 96]\r",
      "\r",
      "                                                                                \r"
     ]
    }
   ],
   "source": [
    "words_filtered_43 = book_43_counts_filtered.filter(lambda x: x[1] in crossList)\n",
    "words_filtered_84 = book_84_counts_filtered.filter(lambda x: x[1] in crossList)\n",
    "words_filtered_398 = book_398_counts_filtered.filter(lambda x: x[1] in crossList)\n",
    "words_filtered_3296 = book_3296_counts_filtered.filter(lambda x: x[1] in crossList)\n",
    "words_filtered_43_rev = words_filtered_43.map(lambda x: (x[1],x[0]))\n",
    "words_filtered_84_rev = words_filtered_84.map(lambda x: (x[1],x[0]))\n",
    "words_filtered_398_rev = words_filtered_398.map(lambda x: (x[1],x[0]))\n",
    "words_filtered_3296_rev = words_filtered_3296.map(lambda x: (x[1],x[0]))\n",
    "sorted_word_43 = words_filtered_43_rev.sortByKey(False)\n",
    "sorted_word_84 = words_filtered_84_rev.sortByKey(False)\n",
    "sorted_word_398 = words_filtered_398_rev.sortByKey(False)\n",
    "sorted_word_3296 = words_filtered_3296_rev.sortByKey(False)\n",
    "counts_matrix[0, :] = list(sorted_word_43.map(lambda x: x[1]).collect())\n",
    "counts_matrix[1, :] = list(sorted_word_84.map(lambda x: x[1]).collect())\n",
    "counts_matrix[2, :] = list(sorted_word_398.map(lambda x: x[1]).collect())\n",
    "counts_matrix[3, :] = list(sorted_word_3296.map(lambda x: x[1]).collect())\n",
    "print(counts_matrix)"
   ]
  },
  {
   "cell_type": "markdown",
   "id": "124bcdd8",
   "metadata": {},
   "source": [
    "### Q17\n",
    "\n",
    "Compute the Euclidean distance between `book_398` and `book_3296`, which both talk about religion and `book_84` and `book_398`. What do you conclude about using the Euclidean distance for evaluating topic relatedness across documents?\n"
   ]
  },
  {
   "cell_type": "code",
   "execution_count": 146,
   "id": "7b6a81dd",
   "metadata": {},
   "outputs": [
    {
     "name": "stdout",
     "output_type": "stream",
     "text": [
      "The Euclidean distance between Books 398 and 3296 is 1156.6628722320086\n",
      "The Euclidean distance between Books 84 and 398 is 751.6688100486809\n",
      "The Euclidean distance between Books 84 and 3296 is 1171.2493329773981\n"
     ]
    }
   ],
   "source": [
    "### Write your code here\n",
    "from scipy.spatial.distance import euclidean\n",
    "\n",
    "dist_398_3296 = euclidean(counts_matrix[2],counts_matrix[3])\n",
    "dist_84_398= euclidean(counts_matrix[1],counts_matrix[2])\n",
    "dist_84_3296= euclidean(counts_matrix[1],counts_matrix[3])\n",
    "\n",
    "print(\"The Euclidean distance between Books 398 and 3296 is\",dist_398_3296)\n",
    "print(\"The Euclidean distance between Books 84 and 398 is\",dist_84_398)\n",
    "print(\"The Euclidean distance between Books 84 and 3296 is\",dist_84_3296)"
   ]
  },
  {
   "cell_type": "markdown",
   "id": "89981b46",
   "metadata": {},
   "source": [
    "#### Answer\n",
    "The Euclidean distance between Frankenstein (Book 84) vs. Adam and Eve (Book 398) is smaller than the Euclidean distances between Adam and Eve vs. Confessions of St. Augustine. This does not make sense because Adam and Eve should be more similar to Confessions of St. Augustine. A third comparison between books of similar length (Frankenstein and Confessions) shows an even larger Euclidean distance. A large Euclidean distance is expected for these two books however, as they have very different topics. So, Euclidean distance is also not a good measurement for books of very different lengths. Because if one book is much shorter, even though it has the same/similar topic, it will report a large Euclidean distance.\n",
    "\n",
    "The raw distance coefficient also does not have an obvious upper bound. We only know that the lower bound of 0 = absolute identity. So, we can rank dissimilarities, but we don't really know how similar the books are."
   ]
  },
  {
   "cell_type": "markdown",
   "id": "3f4e54e6",
   "metadata": {},
   "source": [
    "### Q18\n",
    "\n",
    "Bonus question (5 points): Can you think of a few things we could do to improve similarity between documents that pertain to the same topic. Justify your answer without giving code"
   ]
  },
  {
   "cell_type": "markdown",
   "id": "5c8c6de1",
   "metadata": {},
   "source": [
    "#### Write your answer here\n",
    "We can apply length normalization methods (as described in Week 12 - Feature_engineering_1) so that documents of different lengths have comparable weights. This makes the model applied less sensitive to the scale of the features. We could improve our previous analysis using Euclidean distance by performing instead a normalized Euclidean distance.\n",
    "\n",
    "Alternatively, we could calculate a cosine similarity instead. Cosine similarity is preferred over Euclidean distance when comparing documents of varying sizes because it is a judgement of orientation. Cosine similarity does not care about magnitude.\n",
    "\n",
    "Another option is to calculate the Pearson coefficient as a measure of how \"in-sync\" two sets of data are. The Pearson coefficient looks at the shape of the data distribution. So, for two data sets that are very similar, the shape of the distribution should also be similar."
   ]
  },
  {
   "cell_type": "markdown",
   "id": "aedf1d74",
   "metadata": {},
   "source": [
    "## Part III\n",
    "\n",
    "In this part we will build some basic analytics for a dataset consisting of flight arrival and departure details for all commercial flights within the USA in one month. While this dataset can be managed using Pandas (<1M records), scaling to a yearly or longer timeframe will greatly benefit from using a distributed computing framework such as `Spark`.\n",
    "\n",
    "Here, you should use exclusively `SparkDatFrames. \n",
    "\n",
    "We want to analyze this dataset to better schedule trips.  For example:\n",
    " * Avoid airlines carriers that are most often associated with delays.\n",
    " * Avoid departure days where delays are most frequent.\n",
    " * Avoid airports which are associated with delays or long taxxying time.\n",
    "* etc.\n",
    " \n",
    "\n",
    "The information about the fields contained in the data file can be found [here](https://dataverse.harvard.edu/dataset.xhtml;jsessionid=0414e25969eccd0e88ae4d64fa0b?persistentId=doi%3A10.7910%2FDVN%2FHG7NV7&version=&q=&fileTypeGroupFacet=&fileTag=%221.+Documentation%22&fileSortField=date&fileSortOrder=desc)\n"
   ]
  },
  {
   "cell_type": "markdown",
   "id": "149805af",
   "metadata": {},
   "source": [
    "### Q19\n",
    "\n",
    "Load the file `flight_info.csv` into a spark `DataFrame` called `fight_info`.\n",
    "\n",
    "  * Note that you will need to create a sparkSession prior to loading the data\n",
    "  \n",
    "* How many entries does the file contain?\n",
    "\n"
   ]
  },
  {
   "cell_type": "code",
   "execution_count": 2,
   "id": "3ad5e6ad",
   "metadata": {},
   "outputs": [
    {
     "name": "stderr",
     "output_type": "stream",
     "text": [
      "WARNING: An illegal reflective access operation has occurred\n",
      "WARNING: Illegal reflective access by org.apache.spark.unsafe.Platform (file:/usr/local/spark-3.2.0-bin-hadoop3.2/jars/spark-unsafe_2.12-3.2.0.jar) to constructor java.nio.DirectByteBuffer(long,int)\n",
      "WARNING: Please consider reporting this to the maintainers of org.apache.spark.unsafe.Platform\n",
      "WARNING: Use --illegal-access=warn to enable warnings of further illegal reflective access operations\n",
      "WARNING: All illegal access operations will be denied in a future release\n",
      "Using Spark's default log4j profile: org/apache/spark/log4j-defaults.properties\n",
      "Setting default log level to \"WARN\".\n",
      "To adjust logging level use sc.setLogLevel(newLevel). For SparkR, use setLogLevel(newLevel).\n",
      "21/11/08 16:59:14 WARN NativeCodeLoader: Unable to load native-hadoop library for your platform... using builtin-java classes where applicable\n",
      "                                                                                \r"
     ]
    },
    {
     "name": "stdout",
     "output_type": "stream",
     "text": [
      "The number of entries in Flight Info is 450017\n"
     ]
    }
   ],
   "source": [
    "### Write your code here\n",
    "from pyspark.sql import SparkSession\n",
    "session = SparkSession.builder.getOrCreate()\n",
    "flight_info = session.read.csv(\"./data/flight_info.csv\",header=True, inferSchema=True)\n",
    "numEntries = flight_info.count()\n",
    "print(\"The number of entries in Flight Info is\",numEntries)"
   ]
  },
  {
   "cell_type": "markdown",
   "id": "4fad81f1",
   "metadata": {},
   "source": [
    "### Q20\n",
    "\n",
    "Use `pySpark-SQL` or `pandas-like syntax to compute the airlines represented in this dataset\n",
    "The airline information is stored in a field called UniqueCarrier\n",
    "* UniqueCarrier: Represents the unique carrier code (ex.AA = American Airlines) \n"
   ]
  },
  {
   "cell_type": "code",
   "execution_count": 3,
   "id": "73fd7b0b",
   "metadata": {},
   "outputs": [
    {
     "name": "stdout",
     "output_type": "stream",
     "text": [
      "root\n",
      " |-- _c0: integer (nullable = true)\n",
      " |-- DayOfWeek: integer (nullable = true)\n",
      " |-- UniqueCarrier: string (nullable = true)\n",
      " |-- FlightNum: integer (nullable = true)\n",
      " |-- Origin: string (nullable = true)\n",
      " |-- Dest: string (nullable = true)\n",
      " |-- CRSDepTime: integer (nullable = true)\n",
      " |-- DepTime: double (nullable = true)\n",
      " |-- TaxiOut: double (nullable = true)\n",
      " |-- WheelsOff: double (nullable = true)\n",
      " |-- WheelsOn: double (nullable = true)\n",
      " |-- TaxiIn: double (nullable = true)\n",
      " |-- CRSArrTime: integer (nullable = true)\n",
      " |-- ArrTime: double (nullable = true)\n",
      " |-- Cancelled: double (nullable = true)\n",
      " |-- CancellationCode: string (nullable = true)\n",
      " |-- Distance: double (nullable = true)\n",
      " |-- CarrierDelay: double (nullable = true)\n",
      " |-- WeatherDelay: double (nullable = true)\n",
      " |-- NASDelay: double (nullable = true)\n",
      " |-- SecurityDelay: double (nullable = true)\n",
      " |-- LateAircraftDelay: double (nullable = true)\n",
      "\n"
     ]
    }
   ],
   "source": [
    "### Write your code here\n",
    "flight_info.printSchema()"
   ]
  },
  {
   "cell_type": "code",
   "execution_count": 12,
   "id": "3655e69b",
   "metadata": {
    "scrolled": true
   },
   "outputs": [
    {
     "data": {
      "text/plain": [
       "[Row(UniqueCarrier='UA'),\n",
       " Row(UniqueCarrier='NK'),\n",
       " Row(UniqueCarrier='AA'),\n",
       " Row(UniqueCarrier='EV'),\n",
       " Row(UniqueCarrier='B6'),\n",
       " Row(UniqueCarrier='DL'),\n",
       " Row(UniqueCarrier='OO'),\n",
       " Row(UniqueCarrier='F9'),\n",
       " Row(UniqueCarrier='HA'),\n",
       " Row(UniqueCarrier='AS'),\n",
       " Row(UniqueCarrier='WN'),\n",
       " Row(UniqueCarrier='VX')]"
      ]
     },
     "execution_count": 12,
     "metadata": {},
     "output_type": "execute_result"
    }
   ],
   "source": [
    "uniqueCarrier = flight_info.select('UniqueCarrier').distinct()\n",
    "uniqueCarrier.head(uniqueCarrier.count())"
   ]
  },
  {
   "cell_type": "markdown",
   "id": "1349b2f5",
   "metadata": {},
   "source": [
    "### Q21\n",
    "\n",
    "The data file contains various other fields, two of which are useful for answering the next question.\n",
    "\n",
    "* CRSDepTime: Represents the scheduled departure time\n",
    "* DepTime: Represents the actual departure time\n",
    "\n",
    "Compute the number of flights delayed per each carried code represented in this dataset. Sort the data by decreasing order of delays.\n",
    "  * A delay is observed when `DepTime` > `CRSDepTime`\n"
   ]
  },
  {
   "cell_type": "code",
   "execution_count": 5,
   "id": "c72cff25",
   "metadata": {},
   "outputs": [],
   "source": [
    "### Write your code here\n",
    "flight_info.createOrReplaceTempView(\"Flights\")\n",
    "flight_delays = session.sql(\"\"\"\n",
    "SELECT UniqueCarrier, COUNT(*)\n",
    "FROM Flights\n",
    "WHERE DepTime > CRSDepTime\n",
    "GROUP BY UniqueCarrier;\n",
    "\"\"\")"
   ]
  },
  {
   "cell_type": "code",
   "execution_count": 6,
   "id": "54aeb2cf",
   "metadata": {},
   "outputs": [
    {
     "name": "stderr",
     "output_type": "stream",
     "text": [
      "                                                                                \r"
     ]
    },
    {
     "data": {
      "text/plain": [
       "[Row(UniqueCarrier='UA', count(1)=17701),\n",
       " Row(UniqueCarrier='NK', count(1)=4151),\n",
       " Row(UniqueCarrier='AA', count(1)=23461),\n",
       " Row(UniqueCarrier='EV', count(1)=11596),\n",
       " Row(UniqueCarrier='B6', count(1)=9396),\n",
       " Row(UniqueCarrier='DL', count(1)=24334),\n",
       " Row(UniqueCarrier='OO', count(1)=16751),\n",
       " Row(UniqueCarrier='F9', count(1)=2988),\n",
       " Row(UniqueCarrier='HA', count(1)=1939),\n",
       " Row(UniqueCarrier='AS', count(1)=4488),\n",
       " Row(UniqueCarrier='WN', count(1)=47472),\n",
       " Row(UniqueCarrier='VX', count(1)=2648)]"
      ]
     },
     "execution_count": 6,
     "metadata": {},
     "output_type": "execute_result"
    }
   ],
   "source": [
    "flight_delays.head(uniqueCarrier.count())"
   ]
  },
  {
   "cell_type": "markdown",
   "id": "1645593b",
   "metadata": {},
   "source": [
    "### Q22\n",
    "\n",
    " Use the file `airlines.csv` to find the the complete name of the airline. Here, you are required to load the file as a pyspark DataFrame; call it `airlines_info`, and repeat the query above while including the `flights.csv `file in your query ( requires doing a `join`) so that you can also display the full name of the carrier (second column). \n",
    "\n",
    "The result will look (approximately) like:\n",
    "\n",
    "```\n",
    "[Row(UniqueCarrier='WN', first(_c1)='Southwest Airlines', count=SOME_count),\n",
    " Row(UniqueCarrier='DL', first(_c1)='Delta Air Lines', count=SOME_count),\n",
    " Row(UniqueCarrier='AA', first(_c1)='American Airlines', count=SOME_count),\n",
    " ...\n",
    " ]\n",
    "```\n",
    "\n",
    "The carrier code in the `airlines.csv` file is provided in the 4th (1-based) column\n",
    "\n",
    "Note that the file `airlines.csv` does not have column header. Hence, you need to print one line of your dataset to see what names Spark gave to the columns. Use the name provided by Spark in your query."
   ]
  },
  {
   "cell_type": "code",
   "execution_count": 7,
   "id": "30cea22b",
   "metadata": {},
   "outputs": [
    {
     "name": "stdout",
     "output_type": "stream",
     "text": [
      "Row(_c0=1, _c1='Private flight', _c2='\\\\N', _c3='-', _c4='N/A', _c5=None, _c6=None, _c7='Y')\n",
      "Row(_c0=2, _c1='135 Airways', _c2='\\\\N', _c3=None, _c4='GNL', _c5='GENERAL', _c6='United States', _c7='N')\n",
      "Row(_c0=3, _c1='1Time Airline', _c2='\\\\N', _c3='1T', _c4='RNX', _c5='NEXTIME', _c6='South Africa', _c7='Y')\n",
      "Row(_c0=4, _c1='2 Sqn No 1 Elementary Flying Training School', _c2='\\\\N', _c3=None, _c4='WYT', _c5=None, _c6='United Kingdom', _c7='N')\n",
      "Row(_c0=5, _c1='213 Flight Unit', _c2='\\\\N', _c3=None, _c4='TFU', _c5=None, _c6='Russia', _c7='N')\n"
     ]
    }
   ],
   "source": [
    "### Write your code here\n",
    "airlines_info = session.read.csv(\"./data/airlines.csv\",header=False,inferSchema=True)\n",
    "for airline in airlines_info.head(5):\n",
    "    print(airline)"
   ]
  },
  {
   "cell_type": "code",
   "execution_count": 8,
   "id": "e1ae0810",
   "metadata": {},
   "outputs": [],
   "source": [
    "airlines_info.createOrReplaceTempView(\"airlines\")\n",
    "delaysFull = session.sql(\"\"\"\n",
    "SELECT UniqueCarrier, first(_c1), COUNT(*)\n",
    "FROM Flights Fl\n",
    "INNER JOIN airlines Ai\n",
    "on Fl.UniqueCarrier = Ai._c3\n",
    "WHERE DepTime > CRSDepTime\n",
    "GROUP BY UniqueCarrier;\n",
    "\"\"\")"
   ]
  },
  {
   "cell_type": "code",
   "execution_count": 9,
   "id": "ac6af72c",
   "metadata": {},
   "outputs": [
    {
     "name": "stderr",
     "output_type": "stream",
     "text": [
      "                                                                                \r"
     ]
    },
    {
     "data": {
      "text/plain": [
       "[Row(UniqueCarrier='AA', first(_c1)='American Airlines', count(1)=23461),\n",
       " Row(UniqueCarrier='AS', first(_c1)='Alaska Airlines', count(1)=4488),\n",
       " Row(UniqueCarrier='B6', first(_c1)='JetBlue Airways', count(1)=9396),\n",
       " Row(UniqueCarrier='DL', first(_c1)='Delta Air Lines', count(1)=24334),\n",
       " Row(UniqueCarrier='EV', first(_c1)='Atlantic Southeast Airlines', count(1)=11596),\n",
       " Row(UniqueCarrier='F9', first(_c1)='Frontier Airlines', count(1)=2988),\n",
       " Row(UniqueCarrier='HA', first(_c1)='Hawaiian Airlines', count(1)=1939),\n",
       " Row(UniqueCarrier='NK', first(_c1)='Spirit Airlines', count(1)=4151),\n",
       " Row(UniqueCarrier='OO', first(_c1)='SkyWest', count(1)=16751),\n",
       " Row(UniqueCarrier='UA', first(_c1)='United Airlines', count(1)=17701),\n",
       " Row(UniqueCarrier='VX', first(_c1)='Virgin America', count(1)=2648),\n",
       " Row(UniqueCarrier='WN', first(_c1)='Southwest Airlines', count(1)=47472)]"
      ]
     },
     "execution_count": 9,
     "metadata": {},
     "output_type": "execute_result"
    }
   ],
   "source": [
    "delaysFull.head(uniqueCarrier.count())"
   ]
  },
  {
   "cell_type": "markdown",
   "id": "4e0123a8",
   "metadata": {},
   "source": [
    "### Q23\n",
    "\n",
    "Compute the number of delays per company per day. The day is encoded as an integer in the column `DayOfWeek` in `fight_info`. You can display the day as an integer or map it into a string name of the week.\n",
    "Sort the data by airline code (UniqueCarrier) and by increasing values of DayOfWeek\n",
    "\n",
    "\n",
    "You results should look like the following\n",
    "\n"
   ]
  },
  {
   "cell_type": "code",
   "execution_count": 19,
   "id": "f9971baa",
   "metadata": {},
   "outputs": [
    {
     "name": "stdout",
     "output_type": "stream",
     "text": [
      "+-------------+---------+---------+\n",
      "|UniqueCarrier|DayOfWeek|NumDelays|\n",
      "+-------------+---------+---------+\n",
      "|AA           |1        |4639     |\n",
      "|AA           |2        |3288     |\n",
      "|AA           |3        |2570     |\n",
      "|AA           |4        |3142     |\n",
      "|AA           |5        |3108     |\n",
      "|AA           |6        |2509     |\n",
      "|AA           |7        |4205     |\n",
      "|AS           |1        |786      |\n",
      "|AS           |2        |580      |\n",
      "|AS           |3        |573      |\n",
      "|AS           |4        |656      |\n",
      "|AS           |5        |554      |\n",
      "|AS           |6        |470      |\n",
      "|AS           |7        |869      |\n",
      "|B6           |1        |1754     |\n",
      "|B6           |2        |1628     |\n",
      "|B6           |3        |1109     |\n",
      "|B6           |4        |1101     |\n",
      "|B6           |5        |1175     |\n",
      "|B6           |6        |900      |\n",
      "+-------------+---------+---------+\n",
      "only showing top 20 rows\n",
      "\n"
     ]
    }
   ],
   "source": [
    "### Write your code here\n",
    "dailyDelays = session.sql(\"\"\"\n",
    "SELECT UniqueCarrier, DayOfWeek, COUNT(*) AS NumDelays\n",
    "FROM Flights\n",
    "WHERE DepTime > CRSDepTime\n",
    "GROUP BY UniqueCarrier, DayOfWeek\n",
    "ORDER BY UniqueCarrier, DayOfWeek ASC;\n",
    "\"\"\")\n",
    "dailyDelays.show(truncate=False)"
   ]
  },
  {
   "cell_type": "code",
   "execution_count": 13,
   "id": "373dc24d",
   "metadata": {},
   "outputs": [
    {
     "data": {
      "text/plain": [
       "[Row(UniqueCarrier='AA', DayOfWeek=1, NumDelays=4639),\n",
       " Row(UniqueCarrier='AA', DayOfWeek=2, NumDelays=3288),\n",
       " Row(UniqueCarrier='AA', DayOfWeek=3, NumDelays=2570),\n",
       " Row(UniqueCarrier='AA', DayOfWeek=4, NumDelays=3142),\n",
       " Row(UniqueCarrier='AA', DayOfWeek=5, NumDelays=3108),\n",
       " Row(UniqueCarrier='AA', DayOfWeek=6, NumDelays=2509),\n",
       " Row(UniqueCarrier='AA', DayOfWeek=7, NumDelays=4205),\n",
       " Row(UniqueCarrier='AS', DayOfWeek=1, NumDelays=786),\n",
       " Row(UniqueCarrier='AS', DayOfWeek=2, NumDelays=580),\n",
       " Row(UniqueCarrier='AS', DayOfWeek=3, NumDelays=573),\n",
       " Row(UniqueCarrier='AS', DayOfWeek=4, NumDelays=656),\n",
       " Row(UniqueCarrier='AS', DayOfWeek=5, NumDelays=554),\n",
       " Row(UniqueCarrier='AS', DayOfWeek=6, NumDelays=470),\n",
       " Row(UniqueCarrier='AS', DayOfWeek=7, NumDelays=869),\n",
       " Row(UniqueCarrier='B6', DayOfWeek=1, NumDelays=1754),\n",
       " Row(UniqueCarrier='B6', DayOfWeek=2, NumDelays=1628),\n",
       " Row(UniqueCarrier='B6', DayOfWeek=3, NumDelays=1109),\n",
       " Row(UniqueCarrier='B6', DayOfWeek=4, NumDelays=1101),\n",
       " Row(UniqueCarrier='B6', DayOfWeek=5, NumDelays=1175),\n",
       " Row(UniqueCarrier='B6', DayOfWeek=6, NumDelays=900),\n",
       " Row(UniqueCarrier='B6', DayOfWeek=7, NumDelays=1729),\n",
       " Row(UniqueCarrier='DL', DayOfWeek=1, NumDelays=5573),\n",
       " Row(UniqueCarrier='DL', DayOfWeek=2, NumDelays=3231),\n",
       " Row(UniqueCarrier='DL', DayOfWeek=3, NumDelays=2390),\n",
       " Row(UniqueCarrier='DL', DayOfWeek=4, NumDelays=2964),\n",
       " Row(UniqueCarrier='DL', DayOfWeek=5, NumDelays=3002),\n",
       " Row(UniqueCarrier='DL', DayOfWeek=6, NumDelays=2674),\n",
       " Row(UniqueCarrier='DL', DayOfWeek=7, NumDelays=4500),\n",
       " Row(UniqueCarrier='EV', DayOfWeek=1, NumDelays=2520),\n",
       " Row(UniqueCarrier='EV', DayOfWeek=2, NumDelays=1921),\n",
       " Row(UniqueCarrier='EV', DayOfWeek=3, NumDelays=1258),\n",
       " Row(UniqueCarrier='EV', DayOfWeek=4, NumDelays=1575),\n",
       " Row(UniqueCarrier='EV', DayOfWeek=5, NumDelays=1593),\n",
       " Row(UniqueCarrier='EV', DayOfWeek=6, NumDelays=878),\n",
       " Row(UniqueCarrier='EV', DayOfWeek=7, NumDelays=1851),\n",
       " Row(UniqueCarrier='F9', DayOfWeek=1, NumDelays=614),\n",
       " Row(UniqueCarrier='F9', DayOfWeek=2, NumDelays=469),\n",
       " Row(UniqueCarrier='F9', DayOfWeek=3, NumDelays=330),\n",
       " Row(UniqueCarrier='F9', DayOfWeek=4, NumDelays=370),\n",
       " Row(UniqueCarrier='F9', DayOfWeek=5, NumDelays=396),\n",
       " Row(UniqueCarrier='F9', DayOfWeek=6, NumDelays=329),\n",
       " Row(UniqueCarrier='F9', DayOfWeek=7, NumDelays=480),\n",
       " Row(UniqueCarrier='HA', DayOfWeek=1, NumDelays=256),\n",
       " Row(UniqueCarrier='HA', DayOfWeek=2, NumDelays=290),\n",
       " Row(UniqueCarrier='HA', DayOfWeek=3, NumDelays=215),\n",
       " Row(UniqueCarrier='HA', DayOfWeek=4, NumDelays=233),\n",
       " Row(UniqueCarrier='HA', DayOfWeek=5, NumDelays=371),\n",
       " Row(UniqueCarrier='HA', DayOfWeek=6, NumDelays=289),\n",
       " Row(UniqueCarrier='HA', DayOfWeek=7, NumDelays=285),\n",
       " Row(UniqueCarrier='NK', DayOfWeek=1, NumDelays=814),\n",
       " Row(UniqueCarrier='NK', DayOfWeek=2, NumDelays=609),\n",
       " Row(UniqueCarrier='NK', DayOfWeek=3, NumDelays=420),\n",
       " Row(UniqueCarrier='NK', DayOfWeek=4, NumDelays=550),\n",
       " Row(UniqueCarrier='NK', DayOfWeek=5, NumDelays=529),\n",
       " Row(UniqueCarrier='NK', DayOfWeek=6, NumDelays=447),\n",
       " Row(UniqueCarrier='NK', DayOfWeek=7, NumDelays=782),\n",
       " Row(UniqueCarrier='OO', DayOfWeek=1, NumDelays=3289),\n",
       " Row(UniqueCarrier='OO', DayOfWeek=2, NumDelays=2626),\n",
       " Row(UniqueCarrier='OO', DayOfWeek=3, NumDelays=2075),\n",
       " Row(UniqueCarrier='OO', DayOfWeek=4, NumDelays=2442),\n",
       " Row(UniqueCarrier='OO', DayOfWeek=5, NumDelays=2402),\n",
       " Row(UniqueCarrier='OO', DayOfWeek=6, NumDelays=1377),\n",
       " Row(UniqueCarrier='OO', DayOfWeek=7, NumDelays=2540),\n",
       " Row(UniqueCarrier='UA', DayOfWeek=1, NumDelays=3658),\n",
       " Row(UniqueCarrier='UA', DayOfWeek=2, NumDelays=2641),\n",
       " Row(UniqueCarrier='UA', DayOfWeek=3, NumDelays=2160),\n",
       " Row(UniqueCarrier='UA', DayOfWeek=4, NumDelays=2512),\n",
       " Row(UniqueCarrier='UA', DayOfWeek=5, NumDelays=2413),\n",
       " Row(UniqueCarrier='UA', DayOfWeek=6, NumDelays=1403),\n",
       " Row(UniqueCarrier='UA', DayOfWeek=7, NumDelays=2914),\n",
       " Row(UniqueCarrier='VX', DayOfWeek=1, NumDelays=522),\n",
       " Row(UniqueCarrier='VX', DayOfWeek=2, NumDelays=385),\n",
       " Row(UniqueCarrier='VX', DayOfWeek=3, NumDelays=343),\n",
       " Row(UniqueCarrier='VX', DayOfWeek=4, NumDelays=394),\n",
       " Row(UniqueCarrier='VX', DayOfWeek=5, NumDelays=374),\n",
       " Row(UniqueCarrier='VX', DayOfWeek=6, NumDelays=204),\n",
       " Row(UniqueCarrier='VX', DayOfWeek=7, NumDelays=426),\n",
       " Row(UniqueCarrier='WN', DayOfWeek=1, NumDelays=8858),\n",
       " Row(UniqueCarrier='WN', DayOfWeek=2, NumDelays=6816),\n",
       " Row(UniqueCarrier='WN', DayOfWeek=3, NumDelays=5766),\n",
       " Row(UniqueCarrier='WN', DayOfWeek=4, NumDelays=7027),\n",
       " Row(UniqueCarrier='WN', DayOfWeek=5, NumDelays=6967),\n",
       " Row(UniqueCarrier='WN', DayOfWeek=6, NumDelays=4521),\n",
       " Row(UniqueCarrier='WN', DayOfWeek=7, NumDelays=7517)]"
      ]
     },
     "execution_count": 13,
     "metadata": {},
     "output_type": "execute_result"
    }
   ],
   "source": [
    "dailyDelays.head(uniqueCarrier.count()*7)"
   ]
  },
  {
   "cell_type": "markdown",
   "id": "4c955760",
   "metadata": {},
   "source": [
    "### Q24  \n",
    "\n",
    "Counting the number of delayed flights per airline is misleading, as airlines with more flights are more likley to have delays than companies with substantially fiewer flights. \n",
    "\n",
    "Repeat the same query above but, for each carrier, normalize the counts of delays by the total number of flights for that carrier. \n"
   ]
  },
  {
   "cell_type": "code",
   "execution_count": 20,
   "id": "13ae9b5e",
   "metadata": {},
   "outputs": [],
   "source": [
    "### Write your code here\n",
    "delaysPerCarrier = session.sql(\"\"\"\n",
    "SELECT UniqueCarrier, first(_c1), COUNT(*)\n",
    "FROM Flights Fl\n",
    "INNER JOIN airlines Ai\n",
    "ON Fl.UniqueCarrier = Ai._c3\n",
    "WHERE DepTime > CRSDepTime\n",
    "GROUP BY UniqueCarrier\n",
    "\"\"\")"
   ]
  },
  {
   "cell_type": "code",
   "execution_count": 21,
   "id": "56c57cea",
   "metadata": {},
   "outputs": [],
   "source": [
    "totalFlightsPerCarrier = session.sql(\"\"\"\n",
    "SELECT UniqueCarrier, COUNT(*)\n",
    "FROM Flights\n",
    "GROUP BY UniqueCarrier\n",
    "\"\"\")"
   ]
  },
  {
   "cell_type": "code",
   "execution_count": 22,
   "id": "844141b7",
   "metadata": {},
   "outputs": [
    {
     "name": "stderr",
     "output_type": "stream",
     "text": [
      "                                                                                \r"
     ]
    },
    {
     "data": {
      "text/plain": [
       "[Row(UniqueCarrier='UA', norm=0.42),\n",
       " Row(UniqueCarrier='NK', norm=0.33),\n",
       " Row(UniqueCarrier='AA', norm=0.32),\n",
       " Row(UniqueCarrier='EV', norm=0.33),\n",
       " Row(UniqueCarrier='B6', norm=0.38),\n",
       " Row(UniqueCarrier='DL', norm=0.35),\n",
       " Row(UniqueCarrier='OO', norm=0.33),\n",
       " Row(UniqueCarrier='F9', norm=0.39),\n",
       " Row(UniqueCarrier='HA', norm=0.31),\n",
       " Row(UniqueCarrier='AS', norm=0.31),\n",
       " Row(UniqueCarrier='WN', norm=0.44),\n",
       " Row(UniqueCarrier='VX', norm=0.46)]"
      ]
     },
     "execution_count": 22,
     "metadata": {},
     "output_type": "execute_result"
    }
   ],
   "source": [
    "delaysPerCarrier.createOrReplaceTempView(\"delays\")\n",
    "totalFlightsPerCarrier.createOrReplaceTempView(\"totals\")\n",
    "normalizedCounts = session.sql(\"\"\"\n",
    "SELECT d.UniqueCarrier, ROUND(d.`count(1)` / t.`count(1)`,2) AS norm\n",
    "FROM delays d\n",
    "INNER JOIN totals t\n",
    "ON d.UniqueCarrier = t.UniqueCarrier\n",
    "\"\"\")\n",
    "normalizedCounts.head(uniqueCarrier.count())"
   ]
  },
  {
   "cell_type": "code",
   "execution_count": 40,
   "id": "384b464c",
   "metadata": {},
   "outputs": [
    {
     "name": "stdout",
     "output_type": "stream",
     "text": [
      "+-------------+--------------------+--------+\n",
      "|UniqueCarrier|          first(_c1)|count(1)|\n",
      "+-------------+--------------------+--------+\n",
      "|           AA|   American Airlines|   23461|\n",
      "|           AS|     Alaska Airlines|    4488|\n",
      "|           B6|     JetBlue Airways|    9396|\n",
      "|           DL|     Delta Air Lines|   24334|\n",
      "|           EV|Atlantic Southeas...|   11596|\n",
      "|           F9|   Frontier Airlines|    2988|\n",
      "|           HA|   Hawaiian Airlines|    1939|\n",
      "|           NK|     Spirit Airlines|    4151|\n",
      "|           OO|             SkyWest|   16751|\n",
      "|           UA|     United Airlines|   17701|\n",
      "|           VX|      Virgin America|    2648|\n",
      "|           WN|  Southwest Airlines|   47472|\n",
      "+-------------+--------------------+--------+\n",
      "\n"
     ]
    }
   ],
   "source": [
    "countsFullName = session.sql(\"\"\"\n",
    "SELECT UniqueCarrier, first(_c1), COUNT(*)\n",
    "FROM Flights Fl\n",
    "INNER JOIN airlines Ai\n",
    "on Fl.UniqueCarrier = Ai._c3\n",
    "WHERE DepTime > CRSDepTime\n",
    "GROUP BY UniqueCarrier;\n",
    "\"\"\")\n",
    "countsFullName.show()"
   ]
  },
  {
   "cell_type": "markdown",
   "id": "5b73b3e4",
   "metadata": {},
   "source": [
    "### Q25 \n",
    "\n",
    "Time the query above. How long did it take to run. \n",
    "  * Make sure you run the code a few times and compute the average run time.\n",
    "  * The above should be easy to implement if you use the correct Jupyter Notebook `magic` function\n",
    "  "
   ]
  },
  {
   "cell_type": "code",
   "execution_count": 51,
   "id": "7df43da8",
   "metadata": {},
   "outputs": [
    {
     "name": "stdout",
     "output_type": "stream",
     "text": [
      "4.94 ms ± 634 µs per loop (mean ± std. dev. of 10 runs, 10 loops each)\n",
      "+-------------+--------------------+--------+\n",
      "|UniqueCarrier|          first(_c1)|count(1)|\n",
      "+-------------+--------------------+--------+\n",
      "|           UA|     United Airlines|   17701|\n",
      "|           NK|     Spirit Airlines|    4151|\n",
      "|           AA|   American Airlines|   23461|\n",
      "|           EV|Atlantic Southeas...|   11596|\n",
      "|           B6|     JetBlue Airways|    9396|\n",
      "|           DL|     Delta Air Lines|   24334|\n",
      "|           OO|             SkyWest|   16751|\n",
      "|           F9|   Frontier Airlines|    2988|\n",
      "|           HA|   Hawaiian Airlines|    1939|\n",
      "|           AS|     Alaska Airlines|    4488|\n",
      "|           VX|      Virgin America|    2648|\n",
      "|           WN|  Southwest Airlines|   47472|\n",
      "+-------------+--------------------+--------+\n",
      "\n"
     ]
    }
   ],
   "source": [
    "### Write your code here\n",
    "%timeit -n10 -r10 -o sum(range(numEntries))\n",
    "countsFullName = session.sql(\"\"\"\n",
    "SELECT UniqueCarrier, first(_c1), COUNT(*)\n",
    "FROM Flights Fl\n",
    "INNER JOIN airlines Ai\n",
    "on Fl.UniqueCarrier = Ai._c3\n",
    "WHERE DepTime > CRSDepTime\n",
    "GROUP BY UniqueCarrier;\n",
    "\"\"\")\n",
    "countsFullName.show()"
   ]
  },
  {
   "cell_type": "markdown",
   "id": "604e85e0",
   "metadata": {},
   "source": [
    "### Q26 \n",
    "\n",
    "Use one of the techniques covered in class to accelerate this query. Time your query to see by how much the run time was improved"
   ]
  },
  {
   "cell_type": "code",
   "execution_count": 52,
   "id": "2e951d64",
   "metadata": {},
   "outputs": [
    {
     "data": {
      "text/plain": [
       "[]"
      ]
     },
     "execution_count": 52,
     "metadata": {},
     "output_type": "execute_result"
    }
   ],
   "source": [
    "### Write your code here - using Caching (Week 5_SparkIntroduction_2)\n",
    "session.sql(\"\"\"\n",
    "UNCACHE TABLE Flights\n",
    "\"\"\").collect()\n",
    "session.sql(\"\"\"\n",
    "UNCACHE TABLE airlines\n",
    "\"\"\").collect()\n",
    "session.sql(\"\"\"\n",
    "UNCACHE TABLE delays\n",
    "\"\"\").collect()\n",
    "session.sql(\"\"\"\n",
    "UNCACHE TABLE totals\n",
    "\"\"\").collect()"
   ]
  },
  {
   "cell_type": "code",
   "execution_count": 53,
   "id": "a5424c2a",
   "metadata": {},
   "outputs": [
    {
     "name": "stdout",
     "output_type": "stream",
     "text": [
      "5.22 ms ± 778 µs per loop (mean ± std. dev. of 10 runs, 10 loops each)\n"
     ]
    },
    {
     "name": "stderr",
     "output_type": "stream",
     "text": [
      "[Stage 195:============================>                            (1 + 1) / 2]\r"
     ]
    },
    {
     "name": "stdout",
     "output_type": "stream",
     "text": [
      "+-------------+--------------------+--------+\n",
      "|UniqueCarrier|          first(_c1)|count(1)|\n",
      "+-------------+--------------------+--------+\n",
      "|           AA|   American Airlines|   23461|\n",
      "|           AS|     Alaska Airlines|    4488|\n",
      "|           B6|     JetBlue Airways|    9396|\n",
      "|           DL|     Delta Air Lines|   24334|\n",
      "|           EV|Atlantic Southeas...|   11596|\n",
      "|           F9|   Frontier Airlines|    2988|\n",
      "|           HA|   Hawaiian Airlines|    1939|\n",
      "|           NK|     Spirit Airlines|    4151|\n",
      "|           OO|             SkyWest|   16751|\n",
      "|           UA|     United Airlines|   17701|\n",
      "|           VX|      Virgin America|    2648|\n",
      "|           WN|  Southwest Airlines|   47472|\n",
      "+-------------+--------------------+--------+\n",
      "\n"
     ]
    },
    {
     "name": "stderr",
     "output_type": "stream",
     "text": [
      "\r",
      "                                                                                \r"
     ]
    }
   ],
   "source": [
    "### Uncached time\n",
    "%timeit -n10 -r10 -o sum(range(numEntries))\n",
    "countsFullName = session.sql(\"\"\"\n",
    "SELECT UniqueCarrier, first(_c1), COUNT(*)\n",
    "FROM Flights Fl\n",
    "INNER JOIN airlines Ai\n",
    "on Fl.UniqueCarrier = Ai._c3\n",
    "WHERE DepTime > CRSDepTime\n",
    "GROUP BY UniqueCarrier;\n",
    "\"\"\")\n",
    "countsFullName.show()"
   ]
  },
  {
   "cell_type": "code",
   "execution_count": 54,
   "id": "565ca0c9",
   "metadata": {},
   "outputs": [
    {
     "name": "stderr",
     "output_type": "stream",
     "text": [
      "21/11/08 19:44:13 WARN CSVHeaderChecker: CSV header does not conform to the schema.\n",
      " Header: , DayOfWeek, UniqueCarrier, FlightNum, Origin, Dest, CRSDepTime, DepTime, TaxiOut, WheelsOff, WheelsOn, TaxiIn, CRSArrTime, ArrTime, Cancelled, CancellationCode, Distance, CarrierDelay, WeatherDelay, NASDelay, SecurityDelay, LateAircraftDelay\n",
      " Schema: _c0, DayOfWeek, UniqueCarrier, FlightNum, Origin, Dest, CRSDepTime, DepTime, TaxiOut, WheelsOff, WheelsOn, TaxiIn, CRSArrTime, ArrTime, Cancelled, CancellationCode, Distance, CarrierDelay, WeatherDelay, NASDelay, SecurityDelay, LateAircraftDelay\n",
      "Expected: _c0 but found: \n",
      "CSV file: file:///home/jovyan/work/data/flight_info.csv\n",
      "                                                                                \r"
     ]
    },
    {
     "data": {
      "text/plain": [
       "[]"
      ]
     },
     "execution_count": 54,
     "metadata": {},
     "output_type": "execute_result"
    }
   ],
   "source": [
    "### Write your code here - using Caching (Week 5_SparkIntroduction_2)\n",
    "session.sql(\"\"\"\n",
    "CACHE TABLE Flights\n",
    "\"\"\").collect()\n",
    "session.sql(\"\"\"\n",
    "CACHE TABLE airlines\n",
    "\"\"\").collect()\n",
    "session.sql(\"\"\"\n",
    "CACHE TABLE delays\n",
    "\"\"\").collect()\n",
    "session.sql(\"\"\"\n",
    "CACHE TABLE totals\n",
    "\"\"\").collect()"
   ]
  },
  {
   "cell_type": "code",
   "execution_count": 56,
   "id": "e3616df4",
   "metadata": {},
   "outputs": [
    {
     "name": "stdout",
     "output_type": "stream",
     "text": [
      "4.45 ms ± 346 µs per loop (mean ± std. dev. of 10 runs, 10 loops each)\n",
      "+-------------+--------------------+--------+\n",
      "|UniqueCarrier|          first(_c1)|count(1)|\n",
      "+-------------+--------------------+--------+\n",
      "|           UA|     United Airlines|   17701|\n",
      "|           NK|     Spirit Airlines|    4151|\n",
      "|           AA|   American Airlines|   23461|\n",
      "|           EV|Atlantic Southeas...|   11596|\n",
      "|           B6|     JetBlue Airways|    9396|\n",
      "|           DL|     Delta Air Lines|   24334|\n",
      "|           OO|             SkyWest|   16751|\n",
      "|           F9|   Frontier Airlines|    2988|\n",
      "|           HA|   Hawaiian Airlines|    1939|\n",
      "|           AS|     Alaska Airlines|    4488|\n",
      "|           VX|      Virgin America|    2648|\n",
      "|           WN|  Southwest Airlines|   47472|\n",
      "+-------------+--------------------+--------+\n",
      "\n"
     ]
    }
   ],
   "source": [
    "### Cached time\n",
    "%timeit -n10 -r10 -o sum(range(numEntries))\n",
    "countsFullName = session.sql(\"\"\"\n",
    "SELECT UniqueCarrier, first(_c1), COUNT(*)\n",
    "FROM Flights Fl\n",
    "INNER JOIN airlines Ai\n",
    "on Fl.UniqueCarrier = Ai._c3\n",
    "WHERE DepTime > CRSDepTime\n",
    "GROUP BY UniqueCarrier;\n",
    "\"\"\")\n",
    "countsFullName.show()"
   ]
  },
  {
   "cell_type": "markdown",
   "id": "8a87a433",
   "metadata": {},
   "source": [
    "### Q27 \n",
    "\n",
    "Is the departure delay (i.e., DepTime - CRSDepTime) predictive of the arrival delay (ArrTime > CRSArrTime)?\n",
    "Use an approach of your choice (e.g. `skelearn` which we covered in class or `Spark`) to model as a linear regression the arrival delay as a function of the departure delay. \n",
    "\n"
   ]
  },
  {
   "cell_type": "code",
   "execution_count": 60,
   "id": "f8dbd52d",
   "metadata": {},
   "outputs": [
    {
     "data": {
      "text/plain": [
       "[Row(startDelay=-3.0, endDelay=-14.0),\n",
       " Row(startDelay=-5.0, endDelay=-35.0),\n",
       " Row(startDelay=-8.0, endDelay=-30.0),\n",
       " Row(startDelay=37.0, endDelay=73.0),\n",
       " Row(startDelay=13.0, endDelay=2.0),\n",
       " Row(startDelay=17.0, endDelay=65.0),\n",
       " Row(startDelay=-3.0, endDelay=51.0),\n",
       " Row(startDelay=0.0, endDelay=48.0),\n",
       " Row(startDelay=-3.0, endDelay=50.0),\n",
       " Row(startDelay=-1.0, endDelay=46.0)]"
      ]
     },
     "execution_count": 60,
     "metadata": {},
     "output_type": "execute_result"
    }
   ],
   "source": [
    "### Write your code here\n",
    "delayInfo = session.sql(\"\"\"\n",
    "SELECT (DepTime - CRSDepTime) AS startDelay, (ArrTime - CRSArrTime) AS endDelay\n",
    "FROM Flights;\n",
    "\"\"\")\n",
    "delayInfo.head(10)"
   ]
  },
  {
   "cell_type": "code",
   "execution_count": 99,
   "id": "87d19f73",
   "metadata": {},
   "outputs": [],
   "source": [
    "from pyspark.sql.functions import col\n",
    "x = delayInfo.select(col(\"startDelay\")).collect()\n",
    "y = delayInfo.select(col(\"endDelay\")).collect()\n",
    "myx = list(map(lambda x: x[\"startDelay\"],x))\n",
    "myy = list(map(lambda y: y[\"endDelay\"],y))"
   ]
  },
  {
   "cell_type": "code",
   "execution_count": 108,
   "id": "3a8429ef",
   "metadata": {},
   "outputs": [],
   "source": [
    "newx = []\n",
    "newy = []\n",
    "\n",
    "for i in range(0,len(myx)):\n",
    "    if(myx[i]== None or myy[i]== None):\n",
    "        pass\n",
    "    else:\n",
    "        newx.append(myx[i])\n",
    "        newy.append(myy[i])"
   ]
  },
  {
   "cell_type": "code",
   "execution_count": 109,
   "id": "6e23064e",
   "metadata": {},
   "outputs": [
    {
     "data": {
      "text/plain": [
       "LinregressResult(slope=0.22335475547344275, intercept=-20.14816658160143, rvalue=0.11616972584526296, pvalue=0.0, stderr=0.002876461667436919, intercept_stderr=0.4374235372787865)"
      ]
     },
     "execution_count": 109,
     "metadata": {},
     "output_type": "execute_result"
    }
   ],
   "source": [
    "from scipy.stats import linregress\n",
    "import numpy as np\n",
    "from sklearn import datasets, linear_model\n",
    "\n",
    "linreg = linregress(newx,newy)\n",
    "linreg"
   ]
  },
  {
   "cell_type": "markdown",
   "id": "defde886",
   "metadata": {},
   "source": [
    "#### Explanation\n",
    "Since the rvalue is very small (0.116), these two differences are not well-correlated. So, departure delay is not predictive of arrival delay"
   ]
  },
  {
   "cell_type": "code",
   "execution_count": 110,
   "id": "58cf344c",
   "metadata": {},
   "outputs": [
    {
     "data": {
      "text/plain": [
       "LinregressResult(slope=0.000481323476691118, intercept=0.37658137702559685, rvalue=0.15063741216078022, pvalue=0.0, stderr=4.758025919492034e-06, intercept_stderr=0.0007235530206188639)"
      ]
     },
     "execution_count": 110,
     "metadata": {},
     "output_type": "execute_result"
    }
   ],
   "source": [
    "booleanNewY = []\n",
    "for i in range (0,len(newy)):\n",
    "    if newy[i]>0:\n",
    "        booleanNewY.append(1)\n",
    "    else:\n",
    "        booleanNewY.append(0)\n",
    "linreg = linregress(newx,booleanNewY)\n",
    "linreg"
   ]
  },
  {
   "cell_type": "markdown",
   "id": "f2f443fc",
   "metadata": {},
   "source": [
    "#### Explanation\n",
    "If the difference in ArrTime and CRSArrTime is positive, we set that to 1 to represent true. Otherwise it is 0 to represent false. As you can see from above, this is not strongly correlated either. So, the difference in DepTime and CRSDepTime is not strongly correlated to whether or not the arrival is delayed."
   ]
  }
 ],
 "metadata": {
  "kernelspec": {
   "display_name": "Python 3 (ipykernel)",
   "language": "python",
   "name": "python3"
  },
  "language_info": {
   "codemirror_mode": {
    "name": "ipython",
    "version": 3
   },
   "file_extension": ".py",
   "mimetype": "text/x-python",
   "name": "python",
   "nbconvert_exporter": "python",
   "pygments_lexer": "ipython3",
   "version": "3.9.7"
  }
 },
 "nbformat": 4,
 "nbformat_minor": 5
}
